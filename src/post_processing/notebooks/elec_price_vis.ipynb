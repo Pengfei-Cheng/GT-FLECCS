{
 "cells": [
  {
   "cell_type": "code",
   "execution_count": 1,
   "metadata": {},
   "outputs": [],
   "source": [
    "import pandas as pd\n",
    "import matplotlib.pyplot as plt\n",
    "%matplotlib inline\n",
    "import numpy as np"
   ]
  },
  {
   "cell_type": "code",
   "execution_count": 2,
   "metadata": {},
   "outputs": [],
   "source": [
    "FIGSIZE = (10, 4)\n",
    "FONTSIZE_BIG = 25\n",
    "FONTSIZE_SMALL = 15"
   ]
  },
  {
   "cell_type": "code",
   "execution_count": 3,
   "metadata": {},
   "outputs": [
    {
     "data": {
      "text/html": [
       "<div>\n",
       "<style scoped>\n",
       "    .dataframe tbody tr th:only-of-type {\n",
       "        vertical-align: middle;\n",
       "    }\n",
       "\n",
       "    .dataframe tbody tr th {\n",
       "        vertical-align: top;\n",
       "    }\n",
       "\n",
       "    .dataframe thead th {\n",
       "        text-align: right;\n",
       "    }\n",
       "</style>\n",
       "<table border=\"1\" class=\"dataframe\">\n",
       "  <thead>\n",
       "    <tr style=\"text-align: right;\">\n",
       "      <th></th>\n",
       "      <th>MiNg_100_CAISO</th>\n",
       "      <th>MiNg_150_CAISO</th>\n",
       "      <th>MiNg_100_ERCOT</th>\n",
       "      <th>MiNg_150_ERCOT</th>\n",
       "      <th>MiNg_100_MISO-W</th>\n",
       "      <th>MiNg_150_MISO-W</th>\n",
       "      <th>MiNg_100_NYISO</th>\n",
       "      <th>MiNg_150_NYISO</th>\n",
       "      <th>MiNg_100_PJM-W</th>\n",
       "      <th>MiNg_150_PJM-W</th>\n",
       "      <th>BaseCaseTax</th>\n",
       "      <th>HighWindTax</th>\n",
       "      <th>HighSolarTax</th>\n",
       "      <th>WinterNYTax</th>\n",
       "    </tr>\n",
       "  </thead>\n",
       "  <tbody>\n",
       "    <tr>\n",
       "      <th>0</th>\n",
       "      <td>89.85</td>\n",
       "      <td>110.30</td>\n",
       "      <td>0.11</td>\n",
       "      <td>0.06</td>\n",
       "      <td>54.53</td>\n",
       "      <td>0.21</td>\n",
       "      <td>1.36</td>\n",
       "      <td>0.12</td>\n",
       "      <td>13.19</td>\n",
       "      <td>0.11</td>\n",
       "      <td>9.19</td>\n",
       "      <td>0.00</td>\n",
       "      <td>46.68</td>\n",
       "      <td>54.20</td>\n",
       "    </tr>\n",
       "    <tr>\n",
       "      <th>1</th>\n",
       "      <td>89.85</td>\n",
       "      <td>110.29</td>\n",
       "      <td>0.00</td>\n",
       "      <td>0.03</td>\n",
       "      <td>0.00</td>\n",
       "      <td>0.00</td>\n",
       "      <td>1.36</td>\n",
       "      <td>0.12</td>\n",
       "      <td>7.45</td>\n",
       "      <td>0.08</td>\n",
       "      <td>46.68</td>\n",
       "      <td>0.00</td>\n",
       "      <td>46.68</td>\n",
       "      <td>55.98</td>\n",
       "    </tr>\n",
       "    <tr>\n",
       "      <th>2</th>\n",
       "      <td>89.85</td>\n",
       "      <td>110.29</td>\n",
       "      <td>0.00</td>\n",
       "      <td>0.03</td>\n",
       "      <td>0.00</td>\n",
       "      <td>0.00</td>\n",
       "      <td>1.36</td>\n",
       "      <td>0.12</td>\n",
       "      <td>7.38</td>\n",
       "      <td>0.06</td>\n",
       "      <td>46.68</td>\n",
       "      <td>0.00</td>\n",
       "      <td>62.25</td>\n",
       "      <td>139.62</td>\n",
       "    </tr>\n",
       "    <tr>\n",
       "      <th>3</th>\n",
       "      <td>89.84</td>\n",
       "      <td>110.28</td>\n",
       "      <td>0.00</td>\n",
       "      <td>0.03</td>\n",
       "      <td>0.00</td>\n",
       "      <td>0.00</td>\n",
       "      <td>1.36</td>\n",
       "      <td>0.12</td>\n",
       "      <td>7.36</td>\n",
       "      <td>0.06</td>\n",
       "      <td>54.20</td>\n",
       "      <td>9.19</td>\n",
       "      <td>62.25</td>\n",
       "      <td>59.15</td>\n",
       "    </tr>\n",
       "    <tr>\n",
       "      <th>4</th>\n",
       "      <td>89.81</td>\n",
       "      <td>110.29</td>\n",
       "      <td>0.03</td>\n",
       "      <td>0.04</td>\n",
       "      <td>0.00</td>\n",
       "      <td>0.00</td>\n",
       "      <td>1.36</td>\n",
       "      <td>0.12</td>\n",
       "      <td>7.25</td>\n",
       "      <td>0.06</td>\n",
       "      <td>54.20</td>\n",
       "      <td>9.19</td>\n",
       "      <td>62.25</td>\n",
       "      <td>59.15</td>\n",
       "    </tr>\n",
       "  </tbody>\n",
       "</table>\n",
       "</div>"
      ],
      "text/plain": [
       "   MiNg_100_CAISO  MiNg_150_CAISO  MiNg_100_ERCOT  MiNg_150_ERCOT  \\\n",
       "0           89.85          110.30            0.11            0.06   \n",
       "1           89.85          110.29            0.00            0.03   \n",
       "2           89.85          110.29            0.00            0.03   \n",
       "3           89.84          110.28            0.00            0.03   \n",
       "4           89.81          110.29            0.03            0.04   \n",
       "\n",
       "   MiNg_100_MISO-W  MiNg_150_MISO-W  MiNg_100_NYISO  MiNg_150_NYISO  \\\n",
       "0            54.53             0.21            1.36            0.12   \n",
       "1             0.00             0.00            1.36            0.12   \n",
       "2             0.00             0.00            1.36            0.12   \n",
       "3             0.00             0.00            1.36            0.12   \n",
       "4             0.00             0.00            1.36            0.12   \n",
       "\n",
       "   MiNg_100_PJM-W  MiNg_150_PJM-W  BaseCaseTax  HighWindTax  HighSolarTax  \\\n",
       "0           13.19            0.11         9.19         0.00         46.68   \n",
       "1            7.45            0.08        46.68         0.00         46.68   \n",
       "2            7.38            0.06        46.68         0.00         62.25   \n",
       "3            7.36            0.06        54.20         9.19         62.25   \n",
       "4            7.25            0.06        54.20         9.19         62.25   \n",
       "\n",
       "   WinterNYTax  \n",
       "0        54.20  \n",
       "1        55.98  \n",
       "2       139.62  \n",
       "3        59.15  \n",
       "4        59.15  "
      ]
     },
     "execution_count": 3,
     "metadata": {},
     "output_type": "execute_result"
    }
   ],
   "source": [
    "df = pd.read_csv('../../resources/overall-price-signals.csv')\n",
    "df.head()"
   ]
  },
  {
   "cell_type": "code",
   "execution_count": 13,
   "metadata": {},
   "outputs": [
    {
     "data": {
      "text/plain": [
       "[<matplotlib.axis.YTick at 0x7fa4e9b69ac0>,\n",
       " <matplotlib.axis.YTick at 0x7fa4e9b692e0>,\n",
       " <matplotlib.axis.YTick at 0x7fa4e9b69160>,\n",
       " <matplotlib.axis.YTick at 0x7fa4e9aaa1f0>]"
      ]
     },
     "execution_count": 13,
     "metadata": {},
     "output_type": "execute_result"
    },
    {
     "data": {
      "image/png": "[encoded data removed]",
      "text/plain": [
       "<Figure size 720x288 with 1 Axes>"
      ]
     },
     "metadata": {
      "needs_background": "light"
     },
     "output_type": "display_data"
    }
   ],
   "source": [
    "SCENARIO = 'MiNg_150_NYISO'\n",
    "X_LO = 0\n",
    "X_UP = 1000\n",
    "dx = 200\n",
    "X = range(X_LO, X_UP)\n",
    "fig, ax = plt.subplots(figsize=FIGSIZE)\n",
    "ax.plot(X, df[SCENARIO].values[X_LO:X_UP], 'r-')\n",
    "\n",
    "ax.set_xlim([X_LO, X_UP])\n",
    "ax.set_ylim([0, 125])\n",
    "\n",
    "plt.setp(ax.get_xticklabels(), fontsize=FONTSIZE_SMALL)\n",
    "plt.setp(ax.get_yticklabels(), fontsize=FONTSIZE_SMALL)\n",
    "ax.set_ylabel(\"elec. price/$/MWh\", fontsize=FONTSIZE_BIG)\n",
    "ax.set_xlabel(\"hour\", fontsize=FONTSIZE_BIG)\n",
    "params = {'legend.fontsize': FONTSIZE_BIG, 'legend.handlelength': 2}\n",
    "plt.rcParams.update(params)\n",
    "ax.set_xticks(range(X_LO, X_UP + dx, dx))\n",
    "ax.set_yticks(range(0, 160, 40))\n",
    "# plt.legend()"
   ]
  }
 ],
 "metadata": {
  "kernelspec": {
   "display_name": "Python 3.8.8 ('base')",
   "language": "python",
   "name": "python3"
  },
  "language_info": {
   "codemirror_mode": {
    "name": "ipython",
    "version": 3
   },
   "file_extension": ".py",
   "mimetype": "text/x-python",
   "name": "python",
   "nbconvert_exporter": "python",
   "pygments_lexer": "ipython3",
   "version": "3.8.8"
  },
  "orig_nbformat": 4,
  "vscode": {
   "interpreter": {
    "hash": "d835530b341a1e113900b89ada8e49e5dde767f75b11f88c11ebed3d28bc474b"
   }
  }
 },
 "nbformat": 4,
 "nbformat_minor": 2
}
