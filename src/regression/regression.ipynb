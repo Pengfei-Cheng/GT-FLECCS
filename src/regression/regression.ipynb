{
 "cells": [
  {
   "cell_type": "markdown",
   "metadata": {},
   "source": [
    "# UPDATE 04-12-2022\n",
    "\n",
    "only 2 points are used for the regression: 100% and 50% (the one with 2 GTs)"
   ]
  },
  {
   "cell_type": "code",
   "execution_count": 1,
   "metadata": {},
   "outputs": [],
   "source": [
    "import pandas as pd\n",
    "import numpy as np\n",
    "from sklearn.linear_model import LinearRegression"
   ]
  },
  {
   "cell_type": "code",
   "execution_count": 2,
   "metadata": {},
   "outputs": [],
   "source": [
    "# read Excel file\n",
    "\n",
    "source_file_name = \"NGCC Performance - with and without Carbon Capture 12 15 2021.xlsx\"\n",
    "\n",
    "dfs = pd.read_excel(\"../resources/\" + source_file_name, sheet_name=None, index_col=0, engine='openpyxl')\n",
    "\n",
    "# strip whitespace for index\n",
    "for df in dfs.values():\n",
    "    df.index = df.index.str.strip()\n",
    "\n",
    "df_no_carbon_cap = dfs['No Carbon Capture']\n",
    "df_max_power = dfs['Max Power']\n",
    "df_max_DAC = dfs['Max DAC']"
   ]
  },
  {
   "cell_type": "markdown",
   "metadata": {},
   "source": [
    "<!-- The whole running performance is divided into 4 pieces:\n",
    "- 60%-100%: 2 GT in 60%-100%\n",
    "- 50%-59%: 2 GT in 50%-60%\n",
    "- 30%-50% (`0.5.1`): 1 GT in 60%-100%\n",
    "- 25%-30%: 1 GT in 50%-60% -->"
   ]
  },
  {
   "cell_type": "code",
   "execution_count": 25,
   "metadata": {},
   "outputs": [],
   "source": [
    "pieces = {\n",
    "    0: [1, 0.5],\n",
    "}"
   ]
  },
  {
   "cell_type": "code",
   "execution_count": 26,
   "metadata": {},
   "outputs": [],
   "source": [
    "def read_idx(idx_list):\n",
    "    return [50 if i == \"0.5.1\" else i * 100 for i in idx_list]"
   ]
  },
  {
   "cell_type": "markdown",
   "metadata": {},
   "source": [
    "## Preprocess results\n",
    "### Duty of PCC reboiler"
   ]
  },
  {
   "cell_type": "code",
   "execution_count": 27,
   "metadata": {},
   "outputs": [
    {
     "data": {
      "text/plain": [
       "Unnamed: 1      MMBtu/hr\n",
       "1             673.857395\n",
       "0.9           627.899968\n",
       "0.8           581.842695\n",
       "0.7           529.348851\n",
       "0.6           475.988367\n",
       "0.5           417.996075\n",
       "0.5.1         336.928698\n",
       "0.4           290.921347\n",
       "0.3           237.994184\n",
       "0.25          208.998038\n",
       "Name: PCC reboiler duty, dtype: object"
      ]
     },
     "execution_count": 27,
     "metadata": {},
     "output_type": "execute_result"
    }
   ],
   "source": [
    "reboiler_coef = 2.69 # MMBtu/tonne CO2 captured, from Trimeric\n",
    "lb_to_tonne = 0.000453592\n",
    "\n",
    "for i in pieces:\n",
    "    for j in pieces[i]:\n",
    "        df_max_power.loc[\"PCC reboiler duty\", j] = df_max_power.loc[\"CO2 captured by PCC\", j] * reboiler_coef * lb_to_tonne\n",
    "\n",
    "df_max_power.iloc[df_max_power.index.get_loc('PCC reboiler duty'), 0] = \"MMBtu/hr\"\n",
    "df_max_power.loc[\"PCC reboiler duty\"]"
   ]
  },
  {
   "cell_type": "markdown",
   "metadata": {},
   "source": [
    "### Auxiliary load"
   ]
  },
  {
   "cell_type": "code",
   "execution_count": 28,
   "metadata": {},
   "outputs": [
    {
     "data": {
      "text/plain": [
       "Unnamed: 1              kW\n",
       "1             17358.919395\n",
       "0.9           16544.115948\n",
       "0.8           15558.596325\n",
       "0.7           14508.690511\n",
       "0.6           13509.488383\n",
       "0.5           12266.054229\n",
       "0.5.1          9995.709746\n",
       "0.4            9283.309286\n",
       "0.3            8430.369506\n",
       "0.25           7896.148618\n",
       "Name: Total Auxiliary w/o PCC and DAC, dtype: object"
      ]
     },
     "execution_count": 28,
     "metadata": {},
     "output_type": "execute_result"
    }
   ],
   "source": [
    "aux_rows = [\"Circulating Water Pumps\",\n",
    "            \"Combustion Turbine Auxiliaries\",\n",
    "            \"Condensate Pumps\",\n",
    "            \"Cooling Tower Fans\",\n",
    "            \"Feedwater Pumps\",\n",
    "            \"Ground Water Pumps\",\n",
    "            \"Miscellaneous Balance of Plant\",\n",
    "            \"SCR\",\n",
    "            \"Steam Turbine Auxiliaries\",\n",
    "            \"Transformer Losses\"\n",
    "            ]\n",
    "df_max_power.loc[\"Total Auxiliary w/o PCC and DAC\"] = df_max_power.loc[aux_rows].sum()\n",
    "df_max_power.iloc[df_max_power.index.get_loc(\"Total Auxiliary w/o PCC and DAC\"), 0] = \"kW\"\n",
    "df_max_power.loc[\"Total Auxiliary w/o PCC and DAC\"]"
   ]
  },
  {
   "cell_type": "markdown",
   "metadata": {},
   "source": [
    "### DAC base steam (energy (MMBtu) based)"
   ]
  },
  {
   "cell_type": "code",
   "execution_count": 29,
   "metadata": {},
   "outputs": [
    {
     "data": {
      "text/plain": [
       "Unnamed: 1      MMBtu/hr\n",
       "1             227.382736\n",
       "0.9           216.203673\n",
       "0.8            203.00112\n",
       "0.7           188.195119\n",
       "0.6           173.247186\n",
       "0.5            151.68503\n",
       "0.5.1         119.220003\n",
       "0.4           106.297478\n",
       "0.3            90.148877\n",
       "0.25           77.016331\n",
       "Name: DAC base steam, dtype: object"
      ]
     },
     "execution_count": 29,
     "metadata": {},
     "output_type": "execute_result"
    }
   ],
   "source": [
    "hv_hf = 959 # Btu/lb for 20.8 psia steam\n",
    "\n",
    "for i in pieces:\n",
    "    for j in pieces[i]:\n",
    "        df_max_power.loc[\"DAC base steam\", j] = df_max_power.loc[\"DAC Steam Flow\", j] * hv_hf / 1e6\n",
    "\n",
    "df_max_power.iloc[df_max_power.index.get_loc(\"DAC base steam\"), 0] = \"MMBtu/hr\"\n",
    "df_max_power.loc[\"DAC base steam\"]"
   ]
  },
  {
   "cell_type": "markdown",
   "metadata": {},
   "source": [
    "### DAC side steam (energy (MMBtu) based)"
   ]
  },
  {
   "cell_type": "code",
   "execution_count": 30,
   "metadata": {},
   "outputs": [
    {
     "data": {
      "text/plain": [
       "Unnamed: 1      MMBtu/hr\n",
       "1             703.431295\n",
       "0.9           691.991384\n",
       "0.8           658.870401\n",
       "0.7           627.162984\n",
       "0.6           599.491039\n",
       "0.5           555.731869\n",
       "0.5.1         345.650452\n",
       "0.4           326.106032\n",
       "0.3           296.523759\n",
       "0.25          268.350257\n",
       "Name: DAC side steam, dtype: object"
      ]
     },
     "execution_count": 30,
     "metadata": {},
     "output_type": "execute_result"
    }
   ],
   "source": [
    "for i in pieces:\n",
    "    for j in pieces[i]:\n",
    "        df_max_power.loc[\"DAC side steam\", j] = (df_max_DAC.loc[\"DAC Steam Flow\", j] - df_max_power.loc[\"DAC Steam Flow\", j]) * hv_hf / 1e6\n",
    "\n",
    "df_max_power.iloc[df_max_power.index.get_loc(\"DAC side steam\"), 0] = \"MMBtu/hr\"\n",
    "df_max_power.loc[\"DAC side steam\"]"
   ]
  },
  {
   "cell_type": "markdown",
   "metadata": {},
   "source": [
    "### CO2 emission"
   ]
  },
  {
   "cell_type": "code",
   "execution_count": 31,
   "metadata": {},
   "outputs": [
    {
     "name": "stderr",
     "output_type": "stream",
     "text": [
      "C:\\Users\\pcheng45\\AppData\\Local\\Packages\\PythonSoftwareFoundation.Python.3.9_qbz5n2kfra8p0\\LocalCache\\local-packages\\Python39\\site-packages\\pandas\\core\\indexing.py:719: FutureWarning: Slicing a positional slice with .loc is not supported, and will raise TypeError in a future version.  Use .loc with labels or .iloc with positions instead.\n",
      "  indexer = self._get_setitem_indexer(key)\n"
     ]
    },
    {
     "data": {
      "text/plain": [
       "Unnamed: 1     tonne CO2/h\n",
       "1               258.256728\n",
       "0.9             240.643484\n",
       "0.8             222.991974\n",
       "0.7             202.873639\n",
       "0.6             182.423164\n",
       "0.5             160.197542\n",
       "0.5.1           129.128364\n",
       "0.4             111.495987\n",
       "0.3              91.211582\n",
       "0.25             80.098771\n",
       "Unnamed: 12            NaN\n",
       "Unnamed: 13            NaN\n",
       "Unnamed: 14            NaN\n",
       "Name: CO2 Emission, dtype: object"
      ]
     },
     "execution_count": 31,
     "metadata": {},
     "output_type": "execute_result"
    }
   ],
   "source": [
    "df_no_carbon_cap.loc[\"CO2 Emission\", 1:11] = df_no_carbon_cap.iloc[51, 1:11].multiply(df_no_carbon_cap.iloc[49, 1:11])\n",
    "\n",
    "df_no_carbon_cap.iloc[df_no_carbon_cap.index.get_loc(\"CO2 Emission\"), 0] = \"tonne CO2/h\"\n",
    "df_no_carbon_cap.loc[\"CO2 Emission\", :]"
   ]
  },
  {
   "cell_type": "markdown",
   "metadata": {},
   "source": [
    "## Regression"
   ]
  },
  {
   "cell_type": "code",
   "execution_count": 32,
   "metadata": {},
   "outputs": [],
   "source": [
    "params = {\n",
    "    \"GT_power\": [df_max_power, \"Gas Turbine\", \"kW\"],\n",
    "    \"fuel\": [df_max_power, \"Heat Input to Turbine(s)\", \"MMBtu/hr\"],\n",
    "    \"HP_power\": [df_max_power, \"HP\", \"kW\"],\n",
    "    \"IP_power\": [df_max_power, \"IP\", \"kW\"],\n",
    "    # \"LP_power\": [df_max_power, \"LP\", \"kW\"],\n",
    "    \"PCC_reboiler_duty\": [df_max_power, \"PCC reboiler duty\", \"MMBtu/hr\"],\n",
    "    \"auxiliary_power\": [df_max_power, \"Total Auxiliary w/o PCC and DAC\", \"MMBtu/hr\"],\n",
    "    \"DAC_base_steam_duty\": [df_max_power, \"DAC base steam\", \"MMBtu/hr\"],\n",
    "    \"DAC_side_steam_duty\": [df_max_power, \"DAC side steam\", \"MMBtu/hr\"],\n",
    "    \"CO2_emission\": [df_no_carbon_cap, \"CO2 Emission\", \"t CO2/hr\"]\n",
    "}"
   ]
  },
  {
   "cell_type": "code",
   "execution_count": 33,
   "metadata": {},
   "outputs": [],
   "source": [
    "def linear_regress(df, idx_name, piece_idx):\n",
    "    \"\"\"\n",
    "    Conduct linear regression on pieces[piece_idx] of df.idx_name.\n",
    "    \"\"\"\n",
    "\n",
    "    X = np.array(read_idx(pieces[piece_idx])).reshape(-1, 1)\n",
    "    y = df.loc[idx_name, pieces[piece_idx]].values\n",
    "\n",
    "    linear_regressor = LinearRegression()\n",
    "    linear_regressor.fit(X, y)\n",
    "    return linear_regressor.coef_[0], linear_regressor.intercept_"
   ]
  },
  {
   "cell_type": "code",
   "execution_count": 34,
   "metadata": {},
   "outputs": [],
   "source": [
    "coefs = []\n",
    "\n",
    "for k, v in params.items():\n",
    "    for piece_idx in pieces.keys():\n",
    "        m, b = linear_regress(v[0], v[1], piece_idx)\n",
    "        coefs.append([k, m, b, v[2], piece_idx])\n",
    "        # print(k, m, b, piece_idx)"
   ]
  },
  {
   "cell_type": "code",
   "execution_count": 36,
   "metadata": {},
   "outputs": [
    {
     "data": {
      "text/html": [
       "<div>\n",
       "<style scoped>\n",
       "    .dataframe tbody tr th:only-of-type {\n",
       "        vertical-align: middle;\n",
       "    }\n",
       "\n",
       "    .dataframe tbody tr th {\n",
       "        vertical-align: top;\n",
       "    }\n",
       "\n",
       "    .dataframe thead th {\n",
       "        text-align: right;\n",
       "    }\n",
       "</style>\n",
       "<table border=\"1\" class=\"dataframe\">\n",
       "  <thead>\n",
       "    <tr style=\"text-align: right;\">\n",
       "      <th></th>\n",
       "      <th>y</th>\n",
       "      <th>a</th>\n",
       "      <th>b</th>\n",
       "      <th>unit</th>\n",
       "      <th>piece_idx</th>\n",
       "    </tr>\n",
       "  </thead>\n",
       "  <tbody>\n",
       "    <tr>\n",
       "      <th>0</th>\n",
       "      <td>GT_power</td>\n",
       "      <td>4770.000000</td>\n",
       "      <td>5.820766e-11</td>\n",
       "      <td>kW</td>\n",
       "      <td>0</td>\n",
       "    </tr>\n",
       "    <tr>\n",
       "      <th>1</th>\n",
       "      <td>fuel</td>\n",
       "      <td>35.124399</td>\n",
       "      <td>1.103131e+03</td>\n",
       "      <td>MMBtu/hr</td>\n",
       "      <td>0</td>\n",
       "    </tr>\n",
       "    <tr>\n",
       "      <th>2</th>\n",
       "      <td>HP_power</td>\n",
       "      <td>388.180893</td>\n",
       "      <td>1.319196e+04</td>\n",
       "      <td>kW</td>\n",
       "      <td>0</td>\n",
       "    </tr>\n",
       "    <tr>\n",
       "      <th>3</th>\n",
       "      <td>IP_power</td>\n",
       "      <td>464.880000</td>\n",
       "      <td>2.267000e+03</td>\n",
       "      <td>kW</td>\n",
       "      <td>0</td>\n",
       "    </tr>\n",
       "    <tr>\n",
       "      <th>4</th>\n",
       "      <td>PCC_reboiler_duty</td>\n",
       "      <td>5.117226</td>\n",
       "      <td>1.621348e+02</td>\n",
       "      <td>MMBtu/hr</td>\n",
       "      <td>0</td>\n",
       "    </tr>\n",
       "    <tr>\n",
       "      <th>5</th>\n",
       "      <td>auxiliary_power</td>\n",
       "      <td>101.857303</td>\n",
       "      <td>7.173189e+03</td>\n",
       "      <td>MMBtu/hr</td>\n",
       "      <td>0</td>\n",
       "    </tr>\n",
       "    <tr>\n",
       "      <th>6</th>\n",
       "      <td>DAC_base_steam_duty</td>\n",
       "      <td>1.513954</td>\n",
       "      <td>7.598732e+01</td>\n",
       "      <td>MMBtu/hr</td>\n",
       "      <td>0</td>\n",
       "    </tr>\n",
       "    <tr>\n",
       "      <th>7</th>\n",
       "      <td>DAC_side_steam_duty</td>\n",
       "      <td>2.953989</td>\n",
       "      <td>4.080324e+02</td>\n",
       "      <td>MMBtu/hr</td>\n",
       "      <td>0</td>\n",
       "    </tr>\n",
       "    <tr>\n",
       "      <th>8</th>\n",
       "      <td>CO2_emission</td>\n",
       "      <td>1.961184</td>\n",
       "      <td>6.213836e+01</td>\n",
       "      <td>t CO2/hr</td>\n",
       "      <td>0</td>\n",
       "    </tr>\n",
       "  </tbody>\n",
       "</table>\n",
       "</div>"
      ],
      "text/plain": [
       "                     y            a             b      unit  piece_idx\n",
       "0             GT_power  4770.000000  5.820766e-11        kW          0\n",
       "1                 fuel    35.124399  1.103131e+03  MMBtu/hr          0\n",
       "2             HP_power   388.180893  1.319196e+04        kW          0\n",
       "3             IP_power   464.880000  2.267000e+03        kW          0\n",
       "4    PCC_reboiler_duty     5.117226  1.621348e+02  MMBtu/hr          0\n",
       "5      auxiliary_power   101.857303  7.173189e+03  MMBtu/hr          0\n",
       "6  DAC_base_steam_duty     1.513954  7.598732e+01  MMBtu/hr          0\n",
       "7  DAC_side_steam_duty     2.953989  4.080324e+02  MMBtu/hr          0\n",
       "8         CO2_emission     1.961184  6.213836e+01  t CO2/hr          0"
      ]
     },
     "execution_count": 36,
     "metadata": {},
     "output_type": "execute_result"
    }
   ],
   "source": [
    "df_coef = pd.DataFrame(coefs, columns=['y', 'a', 'b', 'unit', 'piece_idx'])\n",
    "df_coef"
   ]
  },
  {
   "cell_type": "code",
   "execution_count": 37,
   "metadata": {},
   "outputs": [],
   "source": [
    "df_coef.to_csv(\"coefs.csv\", index=False)"
   ]
  },
  {
   "cell_type": "markdown",
   "metadata": {},
   "source": [
    "### Coefficients from LP steam to power"
   ]
  },
  {
   "cell_type": "code",
   "execution_count": 15,
   "metadata": {},
   "outputs": [
    {
     "data": {
      "text/plain": [
       "0.09061848382623319"
      ]
     },
     "execution_count": 15,
     "metadata": {},
     "output_type": "execute_result"
    }
   ],
   "source": [
    "X = np.array(df_max_power.loc[\"DAC side steam\"].iloc[1:].values).reshape(-1, 1)\n",
    "y = df_max_power.loc[\"LP\"].iloc[1:].values\n",
    "\n",
    "linear_regressor = LinearRegression(fit_intercept=False)\n",
    "linear_regressor.fit(X, y)\n",
    "linear_regressor.coef_[0] / 1000 # MW / MMBtu/hr"
   ]
  }
 ],
 "metadata": {
  "interpreter": {
   "hash": "123d6b875c8ec85adbcb420f09e56d1543ebdf7a9a52ae9ed941a4cdbf56515d"
  },
  "kernelspec": {
   "display_name": "Python 3.9.9 64-bit (windows store)",
   "language": "python",
   "name": "python3"
  },
  "language_info": {
   "codemirror_mode": {
    "name": "ipython",
    "version": 3
   },
   "file_extension": ".py",
   "mimetype": "text/x-python",
   "name": "python",
   "nbconvert_exporter": "python",
   "pygments_lexer": "ipython3",
   "version": "3.9.12"
  },
  "orig_nbformat": 4
 },
 "nbformat": 4,
 "nbformat_minor": 2
}
