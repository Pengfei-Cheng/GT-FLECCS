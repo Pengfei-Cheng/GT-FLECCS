{
 "cells": [
  {
   "cell_type": "markdown",
   "metadata": {},
   "source": [
    "# NPV Update Module"
   ]
  },
  {
   "cell_type": "code",
   "execution_count": 10,
   "metadata": {},
   "outputs": [],
   "source": [
    "import pandas as pd\n",
    "import sys\n",
    "import os\n",
    "from update_NPV import update_NPV"
   ]
  },
  {
   "cell_type": "code",
   "execution_count": 11,
   "metadata": {},
   "outputs": [],
   "source": [
    "prefixes = ['NG-383', 'NG-450', 'NG-600']\n",
    "\n",
    "for prefix in prefixes:\n",
    "\n",
    "    # NOTE: update ADDRESS to the directory storing solutions\n",
    "    ADDRESS = \"\"\n",
    "    folders = [name for name in os.listdir(ADDRESS) if prefix in name and os.path.isdir(ADDRESS + name)]\n",
    "\n",
    "    for folder in folders:\n",
    "\n",
    "        if prefix == 'NG-383':\n",
    "            update_NPV(folder, prefix=prefix)\n",
    "            # sensitivity analysis: PCC cost reduce by 25%\n",
    "            update_NPV(folder, PCC_base=True, prefix=prefix)\n",
    "            # sensitivity analysis: PCC cost reduce by 15%\n",
    "            update_NPV(folder, PCC_base=True, PCC_extra=True, prefix=prefix)\n",
    "        else:\n",
    "            update_NPV(folder, prefix=prefix)\n"
   ]
  }
 ],
 "metadata": {
  "interpreter": {
   "hash": "d835530b341a1e113900b89ada8e49e5dde767f75b11f88c11ebed3d28bc474b"
  },
  "kernelspec": {
   "display_name": "Python 3.8.8 ('base')",
   "language": "python",
   "name": "python3"
  },
  "language_info": {
   "codemirror_mode": {
    "name": "ipython",
    "version": 3
   },
   "file_extension": ".py",
   "mimetype": "text/x-python",
   "name": "python",
   "nbconvert_exporter": "python",
   "pygments_lexer": "ipython3",
   "version": "3.8.8"
  },
  "orig_nbformat": 4
 },
 "nbformat": 4,
 "nbformat_minor": 2
}
