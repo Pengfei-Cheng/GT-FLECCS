{
 "cells": [
  {
   "cell_type": "markdown",
   "metadata": {},
   "source": [
    "# Regression Module\n",
    "\n",
    "This notebook generates the coefficient values from simulation data.\n",
    "\n",
    "For detailed explanations, see Appendix D."
   ]
  },
  {
   "cell_type": "code",
   "execution_count": 1,
   "metadata": {},
   "outputs": [],
   "source": [
    "import pandas as pd\n",
    "import numpy as np\n",
    "from sklearn.linear_model import LinearRegression"
   ]
  },
  {
   "cell_type": "markdown",
   "metadata": {},
   "source": [
    "## Reading Data"
   ]
  },
  {
   "cell_type": "code",
   "execution_count": 6,
   "metadata": {},
   "outputs": [],
   "source": [
    "# read Excel file\n",
    "source_file_name = \"NGCC_performance.xlsx\"\n",
    "dfs = pd.read_excel(\"../resources/\" + source_file_name, sheet_name=None, index_col=0, engine='openpyxl')\n",
    "\n",
    "# strip whitespace for index\n",
    "for df in dfs.values():\n",
    "    df.index = df.index.str.strip()\n",
    "\n",
    "# 3 DataFrames for 3 tabs in the Excel file\n",
    "df_no_carbon_cap = dfs['No Carbon Capture']\n",
    "df_max_power = dfs['Max Power']\n",
    "df_max_DAC = dfs['Max DAC']\n",
    "\n",
    "indices = df_max_DAC.columns[1:]"
   ]
  },
  {
   "cell_type": "code",
   "execution_count": 4,
   "metadata": {},
   "outputs": [],
   "source": [
    "def transfer_idx(indices):\n",
    "    \"\"\"\n",
    "    Transform index number from [0, 1] to [0, 100]%.\n",
    "    As there are two \"0.5\" values, one of them is marked as \"0.5.1\".\n",
    "    \"\"\"\n",
    "    return [50 if i == \"0.5.1\" else i * 100 for i in indices]"
   ]
  },
  {
   "cell_type": "markdown",
   "metadata": {},
   "source": [
    "## Preprocessing Coefficients"
   ]
  },
  {
   "cell_type": "code",
   "execution_count": 7,
   "metadata": {},
   "outputs": [],
   "source": [
    "# new DataFrame to store preprocessed data\n",
    "df = pd.DataFrame(columns=df_max_DAC.columns)\n",
    "df = df.rename(columns={'Unnamed: 1':'unit'})\n",
    "\n",
    "extreme_points = [1, 0.5]"
   ]
  },
  {
   "cell_type": "markdown",
   "metadata": {},
   "source": [
    "### Auxiliary Load"
   ]
  },
  {
   "cell_type": "code",
   "execution_count": 8,
   "metadata": {},
   "outputs": [
    {
     "data": {
      "text/plain": [
       "unit               kW\n",
       "1        17358.919395\n",
       "0.9      16544.115948\n",
       "0.8      15558.596325\n",
       "0.7      14508.690511\n",
       "0.6      13509.488383\n",
       "0.5      12266.054229\n",
       "0.5.1     9995.709746\n",
       "0.4       9283.309286\n",
       "0.3       8430.369506\n",
       "0.25      7896.148618\n",
       "Name: auxiliary_load, dtype: object"
      ]
     },
     "execution_count": 8,
     "metadata": {},
     "output_type": "execute_result"
    }
   ],
   "source": [
    "aux_rows = [\n",
    "    \"Circulating Water Pumps\",\n",
    "    \"Combustion Turbine Auxiliaries\",\n",
    "    \"Condensate Pumps\",\n",
    "    \"Cooling Tower Fans\",\n",
    "    \"Feedwater Pumps\",\n",
    "    \"Ground Water Pumps\",\n",
    "    \"Miscellaneous Balance of Plant\",\n",
    "    \"SCR\",\n",
    "    \"Steam Turbine Auxiliaries\",\n",
    "    \"Transformer Losses\"\n",
    "]\n",
    "\n",
    "# sum these auxiliary load up\n",
    "df.loc[\"auxiliary_load\"] = df_max_power.loc[aux_rows].sum()\n",
    "# set unit\n",
    "df.loc[\"auxiliary_load\", \"unit\"] = \"kW\"\n",
    "df.loc[\"auxiliary_load\"]"
   ]
  },
  {
   "cell_type": "markdown",
   "metadata": {},
   "source": [
    "### DAC Base Steam (Energy (MMBtu) Based)"
   ]
  },
  {
   "cell_type": "code",
   "execution_count": 9,
   "metadata": {},
   "outputs": [
    {
     "data": {
      "text/plain": [
       "unit       MMBtu/hr\n",
       "1        227.382736\n",
       "0.9      216.203673\n",
       "0.8       203.00112\n",
       "0.7      188.195119\n",
       "0.6      173.247186\n",
       "0.5       151.68503\n",
       "0.5.1    119.220003\n",
       "0.4      106.297478\n",
       "0.3       90.148877\n",
       "0.25      77.016331\n",
       "Name: DAC_base_steam, dtype: object"
      ]
     },
     "execution_count": 9,
     "metadata": {},
     "output_type": "execute_result"
    }
   ],
   "source": [
    "hv_hf = 959 # Btu/lb for 20.8 psia steam\n",
    "\n",
    "df.loc[\"DAC_base_steam\", indices] = df_max_power.loc[\"DAC Steam Flow\", indices] * hv_hf / 1e6\n",
    "\n",
    "df.loc[\"DAC_base_steam\", \"unit\"] = \"MMBtu/hr\"\n",
    "df.loc[\"DAC_base_steam\"]"
   ]
  },
  {
   "cell_type": "markdown",
   "metadata": {},
   "source": [
    "### Allocable Steam"
   ]
  },
  {
   "cell_type": "code",
   "execution_count": 10,
   "metadata": {},
   "outputs": [
    {
     "data": {
      "text/plain": [
       "unit       MMBtu/hr\n",
       "1        703.431295\n",
       "0.9      691.991384\n",
       "0.8      658.870401\n",
       "0.7      627.162984\n",
       "0.6      599.491039\n",
       "0.5      555.731869\n",
       "0.5.1    345.650452\n",
       "0.4      326.106032\n",
       "0.3      296.523759\n",
       "0.25     268.350257\n",
       "Name: allocable_steam, dtype: object"
      ]
     },
     "execution_count": 10,
     "metadata": {},
     "output_type": "execute_result"
    }
   ],
   "source": [
    "df.loc[\"allocable_steam\", indices] = (df_max_DAC.loc[\"DAC Steam Flow\", indices] - df_max_power.loc[\"DAC Steam Flow\", indices]) * hv_hf / 1e6\n",
    "\n",
    "df.loc[\"allocable_steam\", \"unit\"] = \"MMBtu/hr\"\n",
    "df.loc[\"allocable_steam\"]"
   ]
  },
  {
   "cell_type": "markdown",
   "metadata": {},
   "source": [
    "### CO2 Emission from Flue Gas"
   ]
  },
  {
   "cell_type": "code",
   "execution_count": 11,
   "metadata": {},
   "outputs": [
    {
     "data": {
      "text/plain": [
       "unit     tonne CO2/h\n",
       "1         258.256728\n",
       "0.9       240.643484\n",
       "0.8       222.991974\n",
       "0.7       202.873639\n",
       "0.6       182.423164\n",
       "0.5       160.197542\n",
       "0.5.1     129.128364\n",
       "0.4       111.495987\n",
       "0.3        91.211582\n",
       "0.25       80.098771\n",
       "Name: CO2_flue_gas, dtype: object"
      ]
     },
     "execution_count": 11,
     "metadata": {},
     "output_type": "execute_result"
    }
   ],
   "source": [
    "df.loc[\"CO2_flue_gas\", indices] = df_no_carbon_cap.loc[\"CO2 Emission Rate\", indices].multiply(df_no_carbon_cap.iloc[49, 1:11])\n",
    "\n",
    "df.loc[\"CO2_flue_gas\", \"unit\"] = \"tonne CO2/h\"\n",
    "df.loc[\"CO2_flue_gas\"]"
   ]
  },
  {
   "cell_type": "markdown",
   "metadata": {},
   "source": [
    "## Regression"
   ]
  },
  {
   "cell_type": "code",
   "execution_count": 12,
   "metadata": {},
   "outputs": [],
   "source": [
    "# each entry has 3 values: DataFrame, row name, unit\n",
    "params = {\n",
    "    \"GT_power\": [df_max_power, \"Gas Turbine\", \"kW\"],\n",
    "    \"fuel\": [df_max_power, \"Heat Input to Turbine(s)\", \"MMBtu/hr\"],\n",
    "    \"HP_power\": [df_max_power, \"HP\", \"kW\"],\n",
    "    \"IP_power\": [df_max_power, \"IP\", \"kW\"],\n",
    "    \"auxiliary_load\": [df, \"auxiliary_load\", \"kW\"],\n",
    "    \"DAC_base_steam\": [df, \"DAC_base_steam\", \"MMBtu/hr\"],\n",
    "    \"allocable_steam\": [df, \"allocable_steam\", \"MMBtu/hr\"],\n",
    "    \"CO2_flue_gas\": [df, \"CO2_flue_gas\", \"tonne CO2/hr\"]\n",
    "}"
   ]
  },
  {
   "cell_type": "code",
   "execution_count": 13,
   "metadata": {},
   "outputs": [],
   "source": [
    "def linear_regress(df, idx_name, points):\n",
    "    \"\"\"\n",
    "    Conduct linear regression on pieces[piece_idx] of df.idx_name.\n",
    "    \"\"\"\n",
    "\n",
    "    # X value needs to be transferred first into % value\n",
    "    X = np.array(transfer_idx(points)).reshape(-1, 1)\n",
    "    y = df.loc[idx_name, points].values\n",
    "\n",
    "    regressor = LinearRegression()\n",
    "    regressor.fit(X, y)\n",
    "    return regressor.coef_[0], regressor.intercept_"
   ]
  },
  {
   "cell_type": "code",
   "execution_count": 19,
   "metadata": {},
   "outputs": [],
   "source": [
    "coefs = []\n",
    "\n",
    "for k, v in params.items():\n",
    "        df, idx_name, unit = v\n",
    "        m, b = linear_regress(df, idx_name, extreme_points)\n",
    "        coefs.append([k, m, b, unit])"
   ]
  },
  {
   "cell_type": "code",
   "execution_count": 20,
   "metadata": {},
   "outputs": [
    {
     "data": {
      "text/html": [
       "<div>\n",
       "<style scoped>\n",
       "    .dataframe tbody tr th:only-of-type {\n",
       "        vertical-align: middle;\n",
       "    }\n",
       "\n",
       "    .dataframe tbody tr th {\n",
       "        vertical-align: top;\n",
       "    }\n",
       "\n",
       "    .dataframe thead th {\n",
       "        text-align: right;\n",
       "    }\n",
       "</style>\n",
       "<table border=\"1\" class=\"dataframe\">\n",
       "  <thead>\n",
       "    <tr style=\"text-align: right;\">\n",
       "      <th></th>\n",
       "      <th>y</th>\n",
       "      <th>a</th>\n",
       "      <th>b</th>\n",
       "      <th>unit</th>\n",
       "    </tr>\n",
       "  </thead>\n",
       "  <tbody>\n",
       "    <tr>\n",
       "      <th>0</th>\n",
       "      <td>GT_power</td>\n",
       "      <td>4770.000000</td>\n",
       "      <td>5.820766e-11</td>\n",
       "      <td>kW</td>\n",
       "    </tr>\n",
       "    <tr>\n",
       "      <th>1</th>\n",
       "      <td>fuel</td>\n",
       "      <td>35.124399</td>\n",
       "      <td>1.103131e+03</td>\n",
       "      <td>MMBtu/hr</td>\n",
       "    </tr>\n",
       "    <tr>\n",
       "      <th>2</th>\n",
       "      <td>HP_power</td>\n",
       "      <td>388.180893</td>\n",
       "      <td>1.319196e+04</td>\n",
       "      <td>kW</td>\n",
       "    </tr>\n",
       "    <tr>\n",
       "      <th>3</th>\n",
       "      <td>IP_power</td>\n",
       "      <td>464.880000</td>\n",
       "      <td>2.267000e+03</td>\n",
       "      <td>kW</td>\n",
       "    </tr>\n",
       "    <tr>\n",
       "      <th>4</th>\n",
       "      <td>auxiliary_load</td>\n",
       "      <td>101.857303</td>\n",
       "      <td>7.173189e+03</td>\n",
       "      <td>kW</td>\n",
       "    </tr>\n",
       "    <tr>\n",
       "      <th>5</th>\n",
       "      <td>DAC_base_steam</td>\n",
       "      <td>1.513954</td>\n",
       "      <td>7.598732e+01</td>\n",
       "      <td>MMBtu/hr</td>\n",
       "    </tr>\n",
       "    <tr>\n",
       "      <th>6</th>\n",
       "      <td>allocable_steam</td>\n",
       "      <td>2.953989</td>\n",
       "      <td>4.080324e+02</td>\n",
       "      <td>MMBtu/hr</td>\n",
       "    </tr>\n",
       "    <tr>\n",
       "      <th>7</th>\n",
       "      <td>CO2_flue_gas</td>\n",
       "      <td>1.961184</td>\n",
       "      <td>6.213836e+01</td>\n",
       "      <td>tonne CO2/hr</td>\n",
       "    </tr>\n",
       "  </tbody>\n",
       "</table>\n",
       "</div>"
      ],
      "text/plain": [
       "                 y            a             b          unit\n",
       "0         GT_power  4770.000000  5.820766e-11            kW\n",
       "1             fuel    35.124399  1.103131e+03      MMBtu/hr\n",
       "2         HP_power   388.180893  1.319196e+04            kW\n",
       "3         IP_power   464.880000  2.267000e+03            kW\n",
       "4   auxiliary_load   101.857303  7.173189e+03            kW\n",
       "5   DAC_base_steam     1.513954  7.598732e+01      MMBtu/hr\n",
       "6  allocable_steam     2.953989  4.080324e+02      MMBtu/hr\n",
       "7     CO2_flue_gas     1.961184  6.213836e+01  tonne CO2/hr"
      ]
     },
     "execution_count": 20,
     "metadata": {},
     "output_type": "execute_result"
    }
   ],
   "source": [
    "df_coef = pd.DataFrame(coefs, columns=['y', 'a', 'b', 'unit'])\n",
    "df_coef"
   ]
  },
  {
   "cell_type": "code",
   "execution_count": 16,
   "metadata": {},
   "outputs": [],
   "source": [
    "df_coef.to_csv(\"coefs.csv\", index=False)"
   ]
  }
 ],
 "metadata": {
  "kernelspec": {
   "display_name": "Python 3.8.8 ('base')",
   "language": "python",
   "name": "python3"
  },
  "language_info": {
   "codemirror_mode": {
    "name": "ipython",
    "version": 3
   },
   "file_extension": ".py",
   "mimetype": "text/x-python",
   "name": "python",
   "nbconvert_exporter": "python",
   "pygments_lexer": "ipython3",
   "version": "3.8.8"
  },
  "orig_nbformat": 4,
  "vscode": {
   "interpreter": {
    "hash": "d835530b341a1e113900b89ada8e49e5dde767f75b11f88c11ebed3d28bc474b"
   }
  }
 },
 "nbformat": 4,
 "nbformat_minor": 2
}
